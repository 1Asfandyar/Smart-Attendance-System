{
  "nbformat": 4,
  "nbformat_minor": 0,
  "metadata": {
    "colab": {
      "name": "Updated_ML_Function.ipynb",
      "provenance": [],
      "collapsed_sections": [],
      "include_colab_link": true
    },
    "kernelspec": {
      "name": "python3",
      "display_name": "Python 3"
    },
    "language_info": {
      "name": "python"
    },
    "accelerator": "GPU"
  },
  "cells": [
    {
      "cell_type": "markdown",
      "metadata": {
        "id": "view-in-github",
        "colab_type": "text"
      },
      "source": [
        "<a href=\"https://colab.research.google.com/github/1Asfandyar/Smart-Attendance-System/blob/AI-model/ML_model/ML_Model.ipynb\" target=\"_parent\"><img src=\"https://colab.research.google.com/assets/colab-badge.svg\" alt=\"Open In Colab\"/></a>"
      ]
    },
    {
      "cell_type": "markdown",
      "source": [
        "**Library installation**"
      ],
      "metadata": {
        "id": "zQ2J8GoMsIz8"
      }
    },
    {
      "cell_type": "code",
      "execution_count": null,
      "metadata": {
        "id": "R_EAobIYsCzU"
      },
      "outputs": [],
      "source": [
        "!pip install face_recognition\n",
        "!pip install -v --install-option=\"--no\" --install-option=\"DLIB_USE_CUDA\" dlib\n",
        "!pip install mtcnn"
      ]
    },
    {
      "cell_type": "code",
      "source": [
        "from google.colab import drive\n",
        "drive.mount('/content/drive')"
      ],
      "metadata": {
        "id": "BZIJC-b5sEjX"
      },
      "execution_count": null,
      "outputs": []
    },
    {
      "cell_type": "code",
      "source": [
        "import face_recognition\n",
        "import matplotlib.pyplot as plt\n",
        "import cv2\n",
        "import numpy as np\n",
        "import os\n",
        "from datetime import datetime\n",
        "from PIL import Image, ImageDraw, ImageFont\n",
        "import pickle\n",
        "from matplotlib import pyplot\n",
        "from matplotlib.patches import Rectangle\n",
        "from matplotlib.patches import Circle\n",
        "from mtcnn.mtcnn import MTCNN"
      ],
      "metadata": {
        "id": "dlPHitvDs8i7"
      },
      "execution_count": null,
      "outputs": []
    },
    {
      "cell_type": "markdown",
      "source": [
        "Function that create encoding of all faces from specific folder.\n",
        "Then save that in pkl file in the drive."
      ],
      "metadata": {
        "id": "bNPTeAcmsSn0"
      }
    },
    {
      "cell_type": "code",
      "source": [
        "def faceEncodings(images):\n",
        "  \"\"\"\n",
        "  this function takes a list of images and return list of encoded images.\n",
        "  INPUTS:\n",
        "    images: list of images (numpy array)\n",
        "  OutPUTS:\n",
        "    list of encoded images\n",
        "  \"\"\"\n",
        "  encodeList = []\n",
        "    for img in images:\n",
        "        img = cv2.cvtColor(img, cv2.COLOR_BGR2RGB)\n",
        "        encode = face_recognition.face_encodings(img)[0]\n",
        "        encodeList.append(encode)\n",
        "    return encodeList"
      ],
      "metadata": {
        "id": "hR7Bk9hUpByZ"
      },
      "execution_count": null,
      "outputs": []
    },
    {
      "cell_type": "code",
      "source": [
        "def EncodeFaces(path_to_std_img_dir, std_names_file_name, std_enc_file_name):\n",
        "  \"\"\"\n",
        "  This function encode all the images in a folder and save the encodings in pickel form to the specified folder.\n",
        "  INPUTS:\n",
        "    path_to_std_img_dir: \n",
        "      reletive or absolute path to folder in which all the student images are present\n",
        "    \n",
        "    std_names_file_name: \n",
        "      file name to store all the student names in pickle encoded form \n",
        "    \n",
        "    std_enc_file_name:\n",
        "      file name to store encodings of students faces in pickle form\n",
        "  OUPUTS:\n",
        "    it returns nothing, but save the results to files in pickle form\n",
        "  \"\"\"\n",
        "  \n",
        "  images = []\n",
        "  personNames = []\n",
        "  myList = os.listdir(path_to_std_img_dir)\n",
        "  for cu_img in myList:\n",
        "      current_Img = cv2.imread(f'{path_to_std_img_dir}/{cu_img}')\n",
        "      images.append(current_Img)\n",
        "      personNames.append(os.path_to_std_img_dir.splitext(cu_img)[0])\n",
        "  print(personNames)\n",
        "\n",
        "  open_file = open(std_names_file_name, \"wb\")\n",
        "  pickle.dump(personNames, open_file)\n",
        "  open_file.close()\n",
        "\n",
        "  encodeListKnown = faceEncodings(images)\n",
        "\n",
        "  open_file = open(std_enc_file_name, \"wb\")\n",
        "  pickle.dump(encodeListKnown, open_file)\n",
        "  open_file.close()\n"
      ],
      "metadata": {
        "id": "XrcOcA9RsS_u"
      },
      "execution_count": null,
      "outputs": []
    },
    {
      "cell_type": "code",
      "source": [
        "StudentFaces_dir = \"/content/drive/MyDrive/ML_Project/Student_Faces\"\n",
        "Name_list = \"/content/drive/MyDrive/ML_Project/StudentName.pkl\"\n",
        "StudentFaces_Encoding = \"/content/drive/MyDrive/ML_Project/StudentEncoding.pkl\"\n",
        "ClassroomImagePath = \"/content/drive/MyDrive/ML_Project/ClassroomPicture/IMG_20220315_095343_1.jpg\"\n"
      ],
      "metadata": {
        "id": "_x-aYqdft7cV"
      },
      "execution_count": null,
      "outputs": []
    },
    {
      "cell_type": "code",
      "source": [
        "EncodeFaces(StudentFaces_dir, Name_list, StudentFaces_Encoding)"
      ],
      "metadata": {
        "id": "ZQPjtDFxvMLV"
      },
      "execution_count": null,
      "outputs": []
    },
    {
      "cell_type": "code",
      "source": [
        "def FindFace(enc_names_file, enc_std_faces_file, class_room_img):\n",
        "  \"\"\"\n",
        "  This function detects and recongnize faces in the image of whole class \n",
        "  INPUTS:\n",
        "  enc_names_file:\n",
        "    pickle encoded file name which have names of student in it.\n",
        "  enc_std_faces_file:\n",
        "    pickle encoded file name which have all the face encodings of students in it.\n",
        "  class_room_img:\n",
        "    a camera taken image file of the whole class for attendence.\n",
        "  OUTPUTS:\n",
        "    it saves the class room images with each face bounding box and there name, if name is in black it is much accurate\n",
        "    if name is in red it is not much sure about them\n",
        "  \"\"\"\n",
        "\n",
        "  Filename = os.path.basename(class_room_img)\n",
        "  # file_name = \"/content/drive/MyDrive/ML_Project/StudentName.pkl\"\n",
        "\n",
        "\n",
        "  open_file = open(enc_names_file, \"rb\")\n",
        "  personNames = pickle.load(open_file)\n",
        "  open_file.close()\n",
        "\n",
        "\n",
        "  # file_name = \"/content/drive/MyDrive/ML_Project/StudentEncoding.pkl\"\n",
        "\n",
        "  open_file = open(enc_std_faces_file, \"rb\")\n",
        "  encodeListKnown = pickle.load(open_file)\n",
        "  open_file.close()\n",
        "\n",
        "  # Path = '/content/drive/MyDrive/ML_Project/ClassroomPicture/IMG_20220315_095343_1.jpg'\n",
        "\n",
        "\n",
        "  image = face_recognition.load_image_file(class_room_img)\n",
        "\n",
        "\n",
        "  detector = MTCNN()\n",
        "\n",
        "  faces = detector.detect_faces(image)\n",
        "\n",
        "  face_location1 = []\n",
        "  for face in faces:\n",
        "    x,y,w,h = face['box']\n",
        "\n",
        "    x1 = y\n",
        "    w1 = y+h\n",
        "    h1 = x\n",
        "    y1 = x+w\n",
        "\n",
        "    a = (x1, y1, w1, h1)\n",
        "    face_location1.append(a)\n",
        "\n",
        "\n",
        "  encodesCurrentFrame = face_recognition.face_encodings(image, face_location1)\n",
        "\n",
        "  print('Total Faces detected: ', len(face_location1))\n",
        "\n",
        "  ImageContours = cv2.imread(class_room_img)\n",
        "  ImageContours = cv2.cvtColor(ImageContours,cv2.COLOR_BGR2RGB)\n",
        "\n",
        "  ReplicateImage = ImageContours.copy()\n",
        "\n",
        "  for cntr in face_location1:\n",
        "      x,y,w,h = cntr\n",
        "      cv2.rectangle(ReplicateImage, (h, x), (y, w), (0, 0, 255), 2)\n",
        "\n",
        "  cv2.imwrite('/content/drive/MyDrive/ML_Project/AttendanceRecord/'+ Filename ,ReplicateImage)\n",
        "  # cv2.imwrite('/content/drive/MyDrive/ML_Project/Output_Image/Marked_Face_Image.jpg',ReplicateImage)\n",
        "\n",
        "  Name_Dist = {}\n",
        "  Not_sure = []\n",
        "  # Not_sure1 = []\n",
        "  for encodeFace, faceLoc in zip(encodesCurrentFrame, face_location1):\n",
        "          matches = face_recognition.compare_faces(encodeListKnown, encodeFace)\n",
        "          \n",
        "          faceDis = face_recognition.face_distance(encodeListKnown, encodeFace)\n",
        "          # print(faceDis)\n",
        "          matchIndex = np.argmin(faceDis)\n",
        "          match_threshold = np.min(faceDis)\n",
        "          # print(matchIndex)\n",
        "          if faceDis[matchIndex] < 0.50:\n",
        "              name = personNames[matchIndex].upper()\n",
        "              # print(name)\n",
        "              Name_Dist[name] = [match_threshold,faceLoc]\n",
        "          else:\n",
        "              name = personNames[matchIndex].upper()\n",
        "              \n",
        "              if name not in Not_sure:\n",
        "                if name not in Name_Dist:\n",
        "\n",
        "                  enc = (name, match_threshold,faceLoc)\n",
        "                  Not_sure.append(enc)\n",
        "              \n",
        "\n",
        "\n",
        "              # print('Unknown')\n",
        "              # Name_Dist['Unknown'] = faceLoc\n",
        "  NOT_SURE_DIST = {}\n",
        "\n",
        "  for Face in Not_sure:\n",
        "    \n",
        "    Name = Face[0]\n",
        "    if Name not in Name_Dist:\n",
        "      prop = []\n",
        "      prop.append(Face[1])\n",
        "      for temp_Face in Not_sure:\n",
        "        if Name == temp_Face[0]:\n",
        "          prop.append(Face[1])\n",
        "      min = np.min(prop)\n",
        "\n",
        "      for temp in Not_sure:\n",
        "        if temp[0] == Name and temp[1] == min:\n",
        "          NOT_SURE_DIST[Name] = [temp[1] ,temp[2]]\n",
        "          # print(Name)\n",
        "\n",
        "\n",
        "\n",
        "\n",
        "  image = Image.open('/content/drive/MyDrive/ML_Project/AttendanceRecord/'+ Filename)\n",
        "\n",
        "  draw = ImageDraw.Draw(image)\n",
        "\n",
        "  font = ImageFont.truetype('/content/drive/MyDrive/ML_Project/Roboto[wdth,wght].ttf', size=45)\n",
        "\n",
        "  for key in Name_Dist:\n",
        "    A = Name_Dist[key][1]\n",
        "    print(A)\n",
        "    (x, y) = (A[1], A[0])\n",
        "    message = str(key)\n",
        "    color = 'rgb(0, 0, 0)'\n",
        "    # print(x,y)\n",
        "    draw.text((x, y), message, fill=color, font=font)\n",
        "\n",
        "  for key in NOT_SURE_DIST:\n",
        "    A = NOT_SURE_DIST[key][1]\n",
        "    (x, y) = (A[1], A[0])\n",
        "    message = str(key)\n",
        "    color = 'rgb(255, 0, 0)'\n",
        "    # print(x,y)\n",
        "    draw.text((x, y), message, fill=color, font=font)\n",
        "  \n",
        "  image.save('/content/drive/MyDrive/ML_Project/AttendanceRecord/'+ Filename)\n"
      ],
      "metadata": {
        "id": "nKGPU2XDve3D"
      },
      "execution_count": null,
      "outputs": []
    },
    {
      "cell_type": "code",
      "source": [
        "FindFace(Name_list, StudentFaces_Encoding, ClassroomImagePath)"
      ],
      "metadata": {
        "id": "Ku-xaJOHyoda"
      },
      "execution_count": null,
      "outputs": []
    },
    {
      "cell_type": "code",
      "source": [
        ""
      ],
      "metadata": {
        "id": "REejQzsz02_1"
      },
      "execution_count": null,
      "outputs": []
    }
  ]
}