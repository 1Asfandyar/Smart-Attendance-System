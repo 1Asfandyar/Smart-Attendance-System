{
  "nbformat": 4,
  "nbformat_minor": 0,
  "metadata": {
    "colab": {
      "name": "Updated_ML_Function.ipynb",
      "provenance": [],
      "collapsed_sections": [],
      "include_colab_link": true
    },
    "kernelspec": {
      "name": "python3",
      "display_name": "Python 3"
    },
    "language_info": {
      "name": "python"
    },
    "accelerator": "GPU"
  },
  "cells": [
    {
      "cell_type": "markdown",
      "metadata": {
        "id": "view-in-github",
        "colab_type": "text"
      },
      "source": [
        "<a href=\"https://colab.research.google.com/github/1Asfandyar/Smart-Attendance-System/blob/AI-model/ML_model/ML_Model_Function.ipynb\" target=\"_parent\"><img src=\"https://colab.research.google.com/assets/colab-badge.svg\" alt=\"Open In Colab\"/></a>"
      ]
    },
    {
      "cell_type": "markdown",
      "source": [
        "**Library installation**"
      ],
      "metadata": {
        "id": "zQ2J8GoMsIz8"
      }
    },
    {
      "cell_type": "code",
      "execution_count": 1,
      "metadata": {
        "id": "R_EAobIYsCzU",
        "colab": {
          "base_uri": "https://localhost:8080/"
        },
        "outputId": "f8074a15-9ddb-41dd-adf8-d09e46b2f353"
      },
      "outputs": [
        {
          "output_type": "stream",
          "name": "stdout",
          "text": [
            "Looking in indexes: https://pypi.org/simple, https://us-python.pkg.dev/colab-wheels/public/simple/\n",
            "Collecting face_recognition\n",
            "  Downloading face_recognition-1.3.0-py2.py3-none-any.whl (15 kB)\n",
            "Requirement already satisfied: numpy in /usr/local/lib/python3.7/dist-packages (from face_recognition) (1.21.6)\n",
            "Requirement already satisfied: dlib>=19.7 in /usr/local/lib/python3.7/dist-packages (from face_recognition) (19.18.0+zzzcolab20220513001918)\n",
            "Requirement already satisfied: Pillow in /usr/local/lib/python3.7/dist-packages (from face_recognition) (7.1.2)\n",
            "Collecting face-recognition-models>=0.3.0\n",
            "  Downloading face_recognition_models-0.3.0.tar.gz (100.1 MB)\n",
            "\u001b[K     |████████████████████████████████| 100.1 MB 27 kB/s \n",
            "\u001b[?25hRequirement already satisfied: Click>=6.0 in /usr/local/lib/python3.7/dist-packages (from face_recognition) (7.1.2)\n",
            "Building wheels for collected packages: face-recognition-models\n",
            "  Building wheel for face-recognition-models (setup.py) ... \u001b[?25l\u001b[?25hdone\n",
            "  Created wheel for face-recognition-models: filename=face_recognition_models-0.3.0-py2.py3-none-any.whl size=100566186 sha256=8deb0d5de76f0a5b9030ce238fe7a9b992ffc720319a95a3826a8544ec0f30eb\n",
            "  Stored in directory: /root/.cache/pip/wheels/d6/81/3c/884bcd5e1c120ff548d57c2ecc9ebf3281c9a6f7c0e7e7947a\n",
            "Successfully built face-recognition-models\n",
            "Installing collected packages: face-recognition-models, face-recognition\n",
            "Successfully installed face-recognition-1.3.0 face-recognition-models-0.3.0\n",
            "/usr/local/lib/python3.7/dist-packages/pip/_internal/commands/install.py:232: UserWarning: Disabling all use of wheels due to the use of --build-option / --global-option / --install-option.\n",
            "  cmdoptions.check_install_build_global(options)\n",
            "Using pip 21.1.3 from /usr/local/lib/python3.7/dist-packages/pip (python 3.7)\n",
            "Value for scheme.platlib does not match. Please report this to <https://github.com/pypa/pip/issues/9617>\n",
            "distutils: /usr/local/lib/python3.7/dist-packages\n",
            "sysconfig: /usr/lib/python3.7/site-packages\n",
            "Value for scheme.purelib does not match. Please report this to <https://github.com/pypa/pip/issues/9617>\n",
            "distutils: /usr/local/lib/python3.7/dist-packages\n",
            "sysconfig: /usr/lib/python3.7/site-packages\n",
            "Value for scheme.headers does not match. Please report this to <https://github.com/pypa/pip/issues/9617>\n",
            "distutils: /usr/local/include/python3.7/UNKNOWN\n",
            "sysconfig: /usr/include/python3.7m/UNKNOWN\n",
            "Value for scheme.scripts does not match. Please report this to <https://github.com/pypa/pip/issues/9617>\n",
            "distutils: /usr/local/bin\n",
            "sysconfig: /usr/bin\n",
            "Value for scheme.data does not match. Please report this to <https://github.com/pypa/pip/issues/9617>\n",
            "distutils: /usr/local\n",
            "sysconfig: /usr\n",
            "Additional context:\n",
            "user = False\n",
            "home = None\n",
            "root = None\n",
            "prefix = None\n",
            "Non-user install because site-packages writeable\n",
            "Created temporary directory: /tmp/pip-ephem-wheel-cache-6hpeu0j8\n",
            "Created temporary directory: /tmp/pip-req-tracker-vpwbwjih\n",
            "Initialized build tracking at /tmp/pip-req-tracker-vpwbwjih\n",
            "Created build tracker: /tmp/pip-req-tracker-vpwbwjih\n",
            "Entered build tracker: /tmp/pip-req-tracker-vpwbwjih\n",
            "Created temporary directory: /tmp/pip-install-h4tshjtq\n",
            "Looking in indexes: https://pypi.org/simple, https://us-python.pkg.dev/colab-wheels/public/simple/\n",
            "Requirement already satisfied: dlib in /usr/local/lib/python3.7/dist-packages (19.18.0+zzzcolab20220513001918)\n",
            "Created temporary directory: /tmp/pip-unpack-p2hs45vo\n",
            "Value for scheme.platlib does not match. Please report this to <https://github.com/pypa/pip/issues/9617>\n",
            "distutils: /usr/local/lib/python3.7/dist-packages\n",
            "sysconfig: /usr/lib/python3.7/site-packages\n",
            "Value for scheme.purelib does not match. Please report this to <https://github.com/pypa/pip/issues/9617>\n",
            "distutils: /usr/local/lib/python3.7/dist-packages\n",
            "sysconfig: /usr/lib/python3.7/site-packages\n",
            "Value for scheme.headers does not match. Please report this to <https://github.com/pypa/pip/issues/9617>\n",
            "distutils: /usr/local/include/python3.7/UNKNOWN\n",
            "sysconfig: /usr/include/python3.7m/UNKNOWN\n",
            "Value for scheme.scripts does not match. Please report this to <https://github.com/pypa/pip/issues/9617>\n",
            "distutils: /usr/local/bin\n",
            "sysconfig: /usr/bin\n",
            "Value for scheme.data does not match. Please report this to <https://github.com/pypa/pip/issues/9617>\n",
            "distutils: /usr/local\n",
            "sysconfig: /usr\n",
            "Additional context:\n",
            "user = False\n",
            "home = None\n",
            "root = None\n",
            "prefix = None\n",
            "Removed build tracker: '/tmp/pip-req-tracker-vpwbwjih'\n",
            "Looking in indexes: https://pypi.org/simple, https://us-python.pkg.dev/colab-wheels/public/simple/\n",
            "Collecting mtcnn\n",
            "  Downloading mtcnn-0.1.1-py3-none-any.whl (2.3 MB)\n",
            "\u001b[K     |████████████████████████████████| 2.3 MB 26.9 MB/s \n",
            "\u001b[?25hRequirement already satisfied: opencv-python>=4.1.0 in /usr/local/lib/python3.7/dist-packages (from mtcnn) (4.1.2.30)\n",
            "Requirement already satisfied: keras>=2.0.0 in /usr/local/lib/python3.7/dist-packages (from mtcnn) (2.8.0)\n",
            "Requirement already satisfied: numpy>=1.14.5 in /usr/local/lib/python3.7/dist-packages (from opencv-python>=4.1.0->mtcnn) (1.21.6)\n",
            "Installing collected packages: mtcnn\n",
            "Successfully installed mtcnn-0.1.1\n"
          ]
        }
      ],
      "source": [
        "!pip install face_recognition\n",
        "!pip install -v --install-option=\"--no\" --install-option=\"DLIB_USE_CUDA\" dlib\n",
        "!pip install mtcnn"
      ]
    },
    {
      "cell_type": "code",
      "source": [
        "from google.colab import drive\n",
        "drive.mount('/content/drive')"
      ],
      "metadata": {
        "id": "BZIJC-b5sEjX",
        "colab": {
          "base_uri": "https://localhost:8080/"
        },
        "outputId": "0a49ce9a-821a-4c58-e63d-cf1dfa295fbf"
      },
      "execution_count": 2,
      "outputs": [
        {
          "output_type": "stream",
          "name": "stdout",
          "text": [
            "Mounted at /content/drive\n"
          ]
        }
      ]
    },
    {
      "cell_type": "code",
      "source": [
        "import face_recognition\n",
        "import matplotlib.pyplot as plt\n",
        "import cv2\n",
        "import numpy as np\n",
        "import os\n",
        "from datetime import datetime\n",
        "from PIL import Image, ImageDraw, ImageFont\n",
        "import pickle\n",
        "from matplotlib import pyplot\n",
        "from matplotlib.patches import Rectangle\n",
        "from matplotlib.patches import Circle\n",
        "from mtcnn.mtcnn import MTCNN"
      ],
      "metadata": {
        "id": "dlPHitvDs8i7"
      },
      "execution_count": 3,
      "outputs": []
    },
    {
      "cell_type": "markdown",
      "source": [
        "Function that create encoding of all faces from specific folder.\n",
        "Then save that in pkl file in the drive."
      ],
      "metadata": {
        "id": "bNPTeAcmsSn0"
      }
    },
    {
      "cell_type": "code",
      "source": [
        "def savePickleEncodingsToFile(file_name:str, py_obj):\n",
        "  \"\"\"\n",
        "  This function saves a Python Object of any type in Pickle encoded form to a file.\n",
        "  INPUTS:\n",
        "    file_name:\n",
        "      name of the file to which encodings have to store.\n",
        "    py_obj:\n",
        "      Any Python object which is to be stored in pickle form to the file.\n",
        "  \"\"\"\n",
        "  open_file = open(file_name, \"wb\")\n",
        "  pickle.dump(py_obj, open_file)\n",
        "  open_file.close()"
      ],
      "metadata": {
        "id": "xlNYXhBb1Xua"
      },
      "execution_count": 4,
      "outputs": []
    },
    {
      "cell_type": "code",
      "source": [
        "def readPickleEncodingsFromFile(file_name:str):\n",
        "  \"\"\"\n",
        "  This function read a Pickle encoded file and returns the decoded python object.\n",
        "  INPUTS:\n",
        "    file_name:\n",
        "      name of the file from which encodings have to read.\n",
        "  OUPUTS:\n",
        "    returns a python object with decoded pickle file\n",
        "  \"\"\"\n",
        "  open_file = open(file_name, \"rb\")\n",
        "  decode_obj = pickle.load(open_file)\n",
        "  open_file.close()\n",
        "  return decode_obj"
      ],
      "metadata": {
        "id": "RThTchZ_3Rpg"
      },
      "execution_count": 5,
      "outputs": []
    },
    {
      "cell_type": "code",
      "source": [
        "def faceEncodings(images):\n",
        "  \"\"\"\n",
        "  this function takes a list of images and return list of encoded images.\n",
        "  INPUTS:\n",
        "    images: list of images (numpy array)\n",
        "  OutPUTS:\n",
        "    list of encoded images\n",
        "  \"\"\"\n",
        "  encodeList = []\n",
        "  for img in images:\n",
        "    img = cv2.cvtColor(img, cv2.COLOR_BGR2RGB)\n",
        "    encode = face_recognition.face_encodings(img)[0]\n",
        "    encodeList.append(encode)\n",
        "  return encodeList"
      ],
      "metadata": {
        "id": "hR7Bk9hUpByZ"
      },
      "execution_count": 6,
      "outputs": []
    },
    {
      "cell_type": "code",
      "source": [
        "def EncodeFaces(path_to_std_img_dir, std_names_file_name, std_enc_file_name):\n",
        "  \"\"\"\n",
        "  This function encode all the images in a folder and save the encodings in pickel form to the specified folder.\n",
        "  INPUTS:\n",
        "    path_to_std_img_dir: \n",
        "      reletive or absolute path to folder in which all the student images are present\n",
        "    \n",
        "    std_names_file_name: \n",
        "      file name to store all the student names in pickle encoded form \n",
        "    \n",
        "    std_enc_file_name:\n",
        "      file name to store encodings of students faces in pickle form\n",
        "  OUPUTS:\n",
        "    it returns nothing, but save the results to files in pickle form\n",
        "  \"\"\"\n",
        "  \n",
        "  images = []\n",
        "  personNames = []\n",
        "  myList = os.listdir(path_to_std_img_dir)\n",
        "  for cu_img in myList:\n",
        "    current_Img = cv2.imread(f'{path_to_std_img_dir}/{cu_img}')\n",
        "    images.append(current_Img)\n",
        "    personNames.append(os.path.splitext(cu_img)[0])\n",
        "  print(personNames)\n",
        "\n",
        "  savePickleEncodingsToFile(std_names_file_name, personNames)\n",
        "\n",
        "  encodeListKnown = faceEncodings(images)\n",
        "\n",
        "  savePickleEncodingsToFile(std_enc_file_name, encodeListKnown)"
      ],
      "metadata": {
        "id": "XrcOcA9RsS_u"
      },
      "execution_count": 7,
      "outputs": []
    },
    {
      "cell_type": "code",
      "source": [
        "StudentFaces_dir = \"/content/drive/MyDrive/ML_Project/Student_Faces\"\n",
        "Name_list = \"/content/drive/MyDrive/ML_Project/StudentName.pkl\"\n",
        "StudentFaces_Encoding = \"/content/drive/MyDrive/ML_Project/StudentEncoding.pkl\"\n",
        "ClassroomImagePath = \"/content/drive/MyDrive/ML_Project/ClassroomPicture/IMG_20220315_095343_1.jpg\"\n"
      ],
      "metadata": {
        "id": "_x-aYqdft7cV"
      },
      "execution_count": 8,
      "outputs": []
    },
    {
      "cell_type": "code",
      "source": [
        "EncodeFaces(StudentFaces_dir, Name_list, StudentFaces_Encoding)"
      ],
      "metadata": {
        "id": "ZQPjtDFxvMLV"
      },
      "execution_count": null,
      "outputs": []
    },
    {
      "cell_type": "code",
      "source": [
        "def takeAttendence(enc_names_file, enc_std_faces_file, class_room_img):\n",
        "  \"\"\"\n",
        "  This function detects and recongnize faces in the image of whole class and returns a dict with all the present and absent students \n",
        "  INPUTS:\n",
        "  enc_names_file:\n",
        "    pickle encoded file name which have names of student in it.\n",
        "  enc_std_faces_file:\n",
        "    pickle encoded file name which have all the face encodings of students in it.\n",
        "  class_room_img:\n",
        "    a camera taken image file of the whole class for attendence.\n",
        "  OUTPUTS:\n",
        "    it returns the dict object like\n",
        "    {\n",
        "      'total_detected_stds':21,\n",
        "      'present_stds':[{name:'name', id:'id', status:'present'}],\n",
        "      'absent_stds':[{name:'name', id:'id', status:'absent'}]\n",
        "    }\n",
        "  \"\"\"\n",
        "\n",
        "  personNames = readPickleEncodingsFromFile(enc_names_file)\n",
        "\n",
        "  encodeListKnown = readPickleEncodingsFromFile(enc_std_faces_file)\n",
        "\n",
        "  image = face_recognition.load_image_file(class_room_img)\n",
        "\n",
        "\n",
        "  detector = MTCNN()\n",
        "\n",
        "  faces = detector.detect_faces(image)\n",
        "\n",
        "  face_location1 = []\n",
        "  for face in faces:\n",
        "    x,y,w,h = face['box']\n",
        "\n",
        "    x1 = y\n",
        "    w1 = y+h\n",
        "    h1 = x\n",
        "    y1 = x+w\n",
        "\n",
        "    a = (x1, y1, w1, h1)\n",
        "    face_location1.append(a)\n",
        "\n",
        "\n",
        "  encodesCurrentFrame = face_recognition.face_encodings(image, face_location1)\n",
        "  total_faces = len(face_location1)\n",
        "  print('Total Faces detected: ', total_faces)\n",
        "\n",
        "  Name_Dist = {}\n",
        "  Not_sure = []\n",
        "  for encodeFace, faceLoc in zip(encodesCurrentFrame, face_location1):\n",
        "          matches = face_recognition.compare_faces(encodeListKnown, encodeFace)\n",
        "          \n",
        "          faceDis = face_recognition.face_distance(encodeListKnown, encodeFace)\n",
        "          matchIndex = np.argmin(faceDis)\n",
        "          match_threshold = np.min(faceDis)\n",
        "          if faceDis[matchIndex] < 0.50:\n",
        "              name = personNames[matchIndex].upper()\n",
        "              Name_Dist[name] = [match_threshold,faceLoc]\n",
        "          else:\n",
        "              name = personNames[matchIndex].upper()\n",
        "              \n",
        "              if name not in Not_sure:\n",
        "                if name not in Name_Dist:\n",
        "\n",
        "                  enc = (name, match_threshold,faceLoc)\n",
        "                  Not_sure.append(enc)\n",
        "\n",
        "  NOT_SURE_DIST = {}\n",
        "\n",
        "  for Face in Not_sure:\n",
        "    \n",
        "    Name = Face[0]\n",
        "    if Name not in Name_Dist:\n",
        "      prop = []\n",
        "      prop.append(Face[1])\n",
        "      for temp_Face in Not_sure:\n",
        "        if Name == temp_Face[0]:\n",
        "          prop.append(Face[1])\n",
        "      min = np.min(prop)\n",
        "\n",
        "      for temp in Not_sure:\n",
        "        if temp[0] == Name and temp[1] == min:\n",
        "          NOT_SURE_DIST[Name] = [temp[1] ,temp[2]]\n",
        "\n",
        "  return {'total_detected_stds':total_faces,\n",
        "        'present_stds':list(Name_Dist),\n",
        "        'absent_stds':list(NOT_SURE_DIST)}"
      ],
      "metadata": {
        "id": "REejQzsz02_1"
      },
      "execution_count": 9,
      "outputs": []
    },
    {
      "cell_type": "code",
      "source": [
        "takeAttendence(Name_list, StudentFaces_Encoding, ClassroomImagePath)"
      ],
      "metadata": {
        "colab": {
          "base_uri": "https://localhost:8080/"
        },
        "id": "mPAQ8rs3HLHB",
        "outputId": "1062c054-7964-4f94-89de-8f42a9b3b2b5"
      },
      "execution_count": 10,
      "outputs": [
        {
          "output_type": "stream",
          "name": "stdout",
          "text": [
            "Total Faces detected:  21\n"
          ]
        },
        {
          "output_type": "execute_result",
          "data": {
            "text/plain": [
              "{'absent_stds': ['MAHEEN', 'ALEENAAMJAD', 'AHMADZAHID'],\n",
              " 'present_stds': ['BILALHASSAN',\n",
              "  'ABDULLAH1',\n",
              "  'IRITIZA',\n",
              "  'BILALSHAH',\n",
              "  'ARMAGHAN1',\n",
              "  'ABDURREHMAN',\n",
              "  'RAZA',\n",
              "  'ABDULLAHTAQUEER',\n",
              "  'AHMREEN',\n",
              "  'SHAHEER2'],\n",
              " 'total_detected_stds': 21}"
            ]
          },
          "metadata": {},
          "execution_count": 10
        }
      ]
    }
  ]
}