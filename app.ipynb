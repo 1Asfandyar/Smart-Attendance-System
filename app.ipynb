{
  "nbformat": 4,
  "nbformat_minor": 0,
  "metadata": {
    "colab": {
      "name": "flask_api.ipynb",
      "provenance": [],
      "collapsed_sections": [],
      "include_colab_link": true
    },
    "kernelspec": {
      "name": "python3",
      "display_name": "Python 3"
    },
    "language_info": {
      "name": "python"
    },
    "accelerator": "GPU"
  },
  "cells": [
    {
      "cell_type": "markdown",
      "metadata": {
        "id": "view-in-github",
        "colab_type": "text"
      },
      "source": [
        "<a href=\"https://colab.research.google.com/github/1Asfandyar/Smart-Attendance-System/blob/flask_api/app.ipynb\" target=\"_parent\"><img src=\"https://colab.research.google.com/assets/colab-badge.svg\" alt=\"Open In Colab\"/></a>"
      ]
    },
    {
      "cell_type": "code",
      "source": [
        "# install required pakages\n",
        "!pip install flask\n",
        "!pip install flask-ngrok\n",
        "\n",
        "!pip install face_recognition\n",
        "!pip install -v --install-option=\"--no\" --install-option=\"DLIB_USE_CUDA\" dlib\n",
        "!pip install mtcnn"
      ],
      "metadata": {
        "id": "Rat09ZCvRwSd"
      },
      "execution_count": null,
      "outputs": []
    },
    {
      "cell_type": "code",
      "source": [
        "# if you are surving HTML content then you need to run this\n",
        "# downloading, extracting, and saving configs ngrok\n",
        "!wget https://bin.equinox.io/c/bNyj1mQVY4c/ngrok-v3-stable-linux-amd64.tgz\n",
        "!tar -xvzf ngrok-v3-stable-linux-amd64.tgz\n",
        "!./ngrok config add-authtoken 29ifuhUWiH23ARpVC0PyPdnBSrj_4q2eJgbA1qthKRH4LevY\n",
        "! rm *.tgz*"
      ],
      "metadata": {
        "id": "2aVWDInwTqx6"
      },
      "execution_count": null,
      "outputs": []
    },
    {
      "cell_type": "code",
      "execution_count": null,
      "metadata": {
        "id": "1-BxQlCsRf7a"
      },
      "outputs": [],
      "source": [
        "import os\n",
        "from flask import Flask, jsonify, request\n",
        "\n",
        "from flask import Flask\n",
        "from flask_ngrok import run_with_ngrok"
      ]
    },
    {
      "cell_type": "code",
      "source": [
        "# please first uploade all file from helper folder\n",
        "# and updated_ml_function.py from ML_model foler"
      ],
      "metadata": {
        "id": "Mu70HVGzgX-G"
      },
      "execution_count": null,
      "outputs": []
    },
    {
      "cell_type": "code",
      "source": [
        "from log import debug, info, warning, error\n",
        "from req_handler import present_students\n",
        "from decode_img import decode\n",
        "from encode_img import encode\n",
        "from ML_Model_Function import takeAttendence, readPickleEncodingsFromFile"
      ],
      "metadata": {
        "id": "4Euer9WqXpoW"
      },
      "execution_count": null,
      "outputs": []
    },
    {
      "cell_type": "code",
      "source": [
        "from google.colab import drive\n",
        "drive.mount('/content/drive')"
      ],
      "metadata": {
        "id": "1Du4KLExe5Ie"
      },
      "execution_count": null,
      "outputs": []
    },
    {
      "cell_type": "code",
      "source": [
        "Name_list_path = \"/content/drive/MyDrive/ML_Project/StudentName.pkl\"\n",
        "StudentFaces_Encoding_path = \"/content/drive/MyDrive/ML_Project/StudentEncoding.pkl\""
      ],
      "metadata": {
        "id": "BQCnzdGO3fKN"
      },
      "execution_count": null,
      "outputs": []
    },
    {
      "cell_type": "code",
      "source": [
        "Name_list = readPickleEncodingsFromFile(Name_list_path)\n",
        "StudentFaces_Encoding = readPickleEncodingsFromFile(StudentFaces_Encoding_path)"
      ],
      "metadata": {
        "id": "C6y5kihO2o37"
      },
      "execution_count": null,
      "outputs": []
    },
    {
      "cell_type": "code",
      "source": [
        "app = Flask(__name__)\n",
        "run_with_ngrok(app)   \n",
        "\n",
        "@app.route(\"/\")\n",
        "def home():\n",
        "  body = request.get_json()\n",
        "  img = decode(body[\"class_img\"])\n",
        "  headers = request.headers\n",
        "  return jsonify(takeAttendence(Name_list, StudentFaces_Encoding, img))\n",
        "\n",
        "app.run()"
      ],
      "metadata": {
        "id": "gNk0gAOfSPh3"
      },
      "execution_count": null,
      "outputs": []
    },
    {
      "cell_type": "code",
      "source": [
        ""
      ],
      "metadata": {
        "id": "Q3lf3QFcX02o"
      },
      "execution_count": null,
      "outputs": []
    }
  ]
}